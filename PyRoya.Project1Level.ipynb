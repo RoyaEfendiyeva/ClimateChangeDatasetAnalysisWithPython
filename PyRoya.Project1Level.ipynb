{
 "cells": [
  {
   "cell_type": "markdown",
   "metadata": {},
   "source": [
    "# CLİMATE CHANGE DATASET ANALYSİS PROJECT\n",
    "Prepared by: Roya Efendiyeva"
   ]
  },
  {
   "cell_type": "markdown",
   "metadata": {},
   "source": [
    "<!DOCTYPE html>\n",
    "<html lang=\"en\">\n",
    "<head>\n",
    "    <meta charset=\"UTF-8\">\n",
    "    <meta name=\"viewport\" content=\"width=device-width, initial-scale=1.0\">\n",
    "    <title>Table of Contents</title>\n",
    "    <style>\n",
    "        body {\n",
    "            font-family: Arial, sans-serif; /* Yazı tipi */\n",
    "            background-color: #f0f0f0; /* Fon rəngi */\n",
    "            margin: 0;\n",
    "            padding: 20px;\n",
    "        }\n",
    "    </style>\n",
    "</head>\n",
    "<body>\n",
    "    <h1>Table of Contents</h1>\n",
    "    <p>1. Introduction</a></p>\n",
    "    <p>2. Goals / Objectives</a></p>\n",
    "    <p>3. Steps</a></p>\n",
    "    <p>4. Problems Encountered</a></p>\n",
    "    <p>5. Results and Conclusions</a></p>\n",
    "    <p>6. Recommendations</a></p>\n",
    "    <p>7. References</a></p>\n",
    "</body>\n",
    "</html>\n"
   ]
  },
  {
   "cell_type": "markdown",
   "metadata": {},
   "source": [
    "<div style=\"display: flex; align-items: center;\">\n",
    "    <div style=\"flex: 1; text-align: left; padding-right: 20px;\">\n",
    "        <h1>Introduction</h1>\n",
    "        <h3>What is Climate Change?</h3>\n",
    "        <p>\"Climate change is a long-term change in the average weather patterns that have come to define Earth’s local, regional and global climates. \"</p>\n",
    "        <h3>Causes</h3>\n",
    "        <p>According to NASA, Water Vapour, Carbon dioxide (CO₂), Methane, Nitrous oxide, Chlorofluorocarbons (CFCs) contribute to the greenhouse effect. Over the last century, human activities have increased concentrations of this natural greenhouse.</p>\n",
    "        <h3>Effects</h3>\n",
    "        <p>\"Global climate change has already had observable effects on the environment. Glaciers have shrunk, ice on rivers and lakes is breaking up earlier, plant and animal ranges have shifted, and trees are flowering sooner, accelerated sea-level rise, and longer, more intense heat waves.\"</p>\n",
    "    </div>\n",
    "    <div style=\"flex: 1; text-align: right;\">\n",
    "        <img src=\"https://today.ucsd.edu/news_uploads/_social/iStock-1339138376-v2.jpg\" width=\"800\" height=\"400\">\n",
    "    </div>\n",
    "</div>"
   ]
  },
  {
   "cell_type": "markdown",
   "metadata": {},
   "source": [
    "<!DOCTYPE html>\n",
    "<html lang=\"en\">\n",
    "<head>\n",
    "    <meta charset=\"UTF-8\">\n",
    "    <meta name=\"viewport\" content=\"width=device-width, initial-scale=1.0\">\n",
    "    <title>Document</title>\n",
    "    <style>\n",
    "        body {\n",
    "            font-family: Arial, sans-serif; /* Yazı tipi */\n",
    "            background-color: #f0f0f0; /* Fon rəngi */\n",
    "            margin: 0;\n",
    "            padding: 20px;\n",
    "        }\n",
    "    </style>\n",
    "</head>\n",
    "<body>\n",
    "    <h1>Goals / Objectives</h1>\n",
    "    <p>---> Identifying core temperature and CO2 changes.</p>\n",
    "    <p>---> Analyze temperature and CO2 emissions by season.</p>\n",
    "    <p>---> Identify differences across regions and countries.</p>\n",
    "</body>\n",
    "</html>\n"
   ]
  },
  {
   "cell_type": "markdown",
   "metadata": {},
   "source": [
    "<!DOCTYPE html>\n",
    "<html lang=\"en\">\n",
    "<head>\n",
    "    <meta charset=\"UTF-8\">\n",
    "    <meta name=\"viewport\" content=\"width=device-width, initial-scale=1.0\">\n",
    "    <title>Steps</title>\n",
    "    <style>\n",
    "        body {\n",
    "            font-family: Arial, sans-serif; /* Yazı tipi */\n",
    "            background-color: #f0f0f0; /* Fon rəngi */\n",
    "            margin: 0;\n",
    "            padding: 20px;\n",
    "        }\n",
    "    </style>\n",
    "</head>\n",
    "<body>\n",
    "    <h1>Steps</h1>\n",
    "    <p>---> Data Import and Exploration</p>\n",
    "    <p>---> Data Cleaning and Preprocessing</p>\n",
    "    <p>---> Data Analysis</p>\n",
    "    <p>---> Data Visualization</p>\n",
    "</body>\n",
    "</html>\n"
   ]
  },
  {
   "cell_type": "markdown",
   "metadata": {},
   "source": [
    "<!DOCTYPE html>\n",
    "<html lang=\"en\">\n",
    "<head>\n",
    "    <meta charset=\"UTF-8\">\n",
    "    <meta name=\"viewport\" content=\"width=device-width, initial-scale=1.0\">\n",
    "    <title>Steps</title>\n",
    "    <style>\n",
    "        body {\n",
    "            font-family: Arial, sans-serif; /* Yazı tipi */\n",
    "            background-color: #f0f0f0; /* Fon rəngi */\n",
    "            margin: 0;\n",
    "            padding: 20px;\n",
    "        }\n",
    "    </style>\n",
    "</head>\n",
    "<body>\n",
    "    <h1>Problems Encountered</h1>\n",
    "    <p>1. I had trouble finding a multi-column dataset</p>\n",
    "    <p>2. Among the codes, there were parts that ran for a long time</p>\n",
    "</body>\n",
    "</html>"
   ]
  },
  {
   "cell_type": "markdown",
   "metadata": {},
   "source": [
    "<!DOCTYPE html>\n",
    "<html lang=\"en\">\n",
    "<head>\n",
    "    <meta charset=\"UTF-8\">\n",
    "    <meta name=\"viewport\" content=\"width=device-width, initial-scale=1.0\">\n",
    "    <title>Steps</title>\n",
    "    <style>\n",
    "        body {\n",
    "            font-family: Arial, sans-serif; /* Yazı tipi */\n",
    "            background-color: #f0f0f0; /* Fon rəngi */\n",
    "            margin: 0;\n",
    "            padding: 20px;\n",
    "        }\n",
    "    </style>\n",
    "</head>\n",
    "<body>\n",
    "    <h1>Results and Conclusions</h1>\n",
    "</body>\n",
    "</html>"
   ]
  },
  {
   "cell_type": "markdown",
   "metadata": {},
   "source": [
    "Within this project, the analysis of climate change datasets provides a broad perspective. First, data accuracy and reliability were increased as a result of dataset cleaning and preprocessing. Thanks to the integration of additional datasets, a wider database was obtained. In the transformation and analysis stages, the differences of CO2 levels, population density across regions and change over time were clearly demonstrated. The reports and graphs help understand the current impacts of climate change and lay the groundwork for more in-depth analysis in the future :)"
   ]
  },
  {
   "cell_type": "markdown",
   "metadata": {},
   "source": [
    "<!DOCTYPE html>\n",
    "<html lang=\"en\">\n",
    "<head>\n",
    "    <meta charset=\"UTF-8\">\n",
    "    <meta name=\"viewport\" content=\"width=device-width, initial-scale=1.0\">\n",
    "    <title>Steps</title>\n",
    "    <style>\n",
    "        body {\n",
    "            font-family: Arial, sans-serif; /* Yazı tipi */\n",
    "            background-color: #f0f0f0; /* Fon rəngi */\n",
    "            margin: 0;\n",
    "            padding: 20px;\n",
    "        }\n",
    "    </style>\n",
    "</head>\n",
    "<body>\n",
    "    <h1>Recommendations</h1>\n",
    "</body>\n",
    "</html>"
   ]
  },
  {
   "cell_type": "markdown",
   "metadata": {},
   "source": [
    "1. Do not run on the original dataset. Work on it by copying it. Changing the original may cause problems later.\n",
    "2. Another recommendation is to find a dataset with lots of rows and lots of column capacity in the dataset options."
   ]
  },
  {
   "cell_type": "markdown",
   "metadata": {},
   "source": [
    "# References"
   ]
  },
  {
   "cell_type": "markdown",
   "metadata": {},
   "source": [
    "<p>1.Kaggle.com</p>\n",
    "<p>2.Chatgpt.com</p>\n",
    "<p>3.https://seaborn.pydata.org/</p>\n",
    "<p style=\"font-family: 'Arial', sans-serif; color: yellow;\">And most of all: My best teacher:)</p>"
   ]
  }
 ],
 "metadata": {
  "kernelspec": {
   "display_name": "Python 3",
   "language": "python",
   "name": "python3"
  },
  "language_info": {
   "name": "python",
   "version": "3.12.4"
  }
 },
 "nbformat": 4,
 "nbformat_minor": 2
}
